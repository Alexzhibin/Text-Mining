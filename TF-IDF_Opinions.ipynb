{
 "cells": [
  {
   "cell_type": "code",
   "execution_count": 18,
   "metadata": {
    "collapsed": true
   },
   "outputs": [],
   "source": [
    "from KaggleWord2VecUtility import KaggleWord2VecUtility\n",
    "from sklearn.feature_extraction.text import TfidfVectorizer\n",
    "import numpy as np\n",
    "import scipy\n",
    "from sklearn.linear_model import SGDClassifier\n",
    "from sklearn.naive_bayes import MultinomialNB\n",
    "from sklearn.metrics import confusion_matrix"
   ]
  },
  {
   "cell_type": "code",
   "execution_count": 2,
   "metadata": {
    "collapsed": false
   },
   "outputs": [],
   "source": [
    "import pandas as pd\n",
    "\n",
    "# Read data from files \n",
    "article = pd.read_csv( \"train_trend_1.csv\")\n",
    "article_test = pd.read_csv( \"test_trend_1.csv\")"
   ]
  },
  {
   "cell_type": "code",
   "execution_count": 3,
   "metadata": {
    "collapsed": true
   },
   "outputs": [
    {
     "data": {
      "text/html": [
       "<div>\n",
       "<table border=\"1\" class=\"dataframe\">\n",
       "  <thead>\n",
       "    <tr style=\"text-align: right;\">\n",
       "      <th></th>\n",
       "      <th>Fixeddates</th>\n",
       "      <th>Articles</th>\n",
       "      <th>return</th>\n",
       "    </tr>\n",
       "  </thead>\n",
       "  <tbody>\n",
       "    <tr>\n",
       "      <th>0</th>\n",
       "      <td>2015-10-08</td>\n",
       "      <td>['If you\\xe2\\x80\\x99ve been following iPhone 6...</td>\n",
       "      <td>-0.011554</td>\n",
       "    </tr>\n",
       "    <tr>\n",
       "      <th>1</th>\n",
       "      <td>2015-10-08</td>\n",
       "      <td>['(Adds comments on proposals to overhaul glob...</td>\n",
       "      <td>-0.011554</td>\n",
       "    </tr>\n",
       "    <tr>\n",
       "      <th>2</th>\n",
       "      <td>2015-10-08</td>\n",
       "      <td>['Some of your favorite games are disappearing...</td>\n",
       "      <td>-0.011554</td>\n",
       "    </tr>\n",
       "    <tr>\n",
       "      <th>3</th>\n",
       "      <td>2015-10-08</td>\n",
       "      <td>['In Australia, every brand of cigarettes look...</td>\n",
       "      <td>-0.011554</td>\n",
       "    </tr>\n",
       "    <tr>\n",
       "      <th>4</th>\n",
       "      <td>2015-10-08</td>\n",
       "      <td>['Did God create the iMac? It\\xe2\\x80\\x99s not...</td>\n",
       "      <td>-0.011554</td>\n",
       "    </tr>\n",
       "    <tr>\n",
       "      <th>5</th>\n",
       "      <td>2015-10-08</td>\n",
       "      <td>['BERLIN, Oct 8 (Reuters) - German Finance Min...</td>\n",
       "      <td>-0.011554</td>\n",
       "    </tr>\n",
       "    <tr>\n",
       "      <th>6</th>\n",
       "      <td>2015-10-08</td>\n",
       "      <td>['Here are your Apple Rumors for today:', 'Mag...</td>\n",
       "      <td>-0.011554</td>\n",
       "    </tr>\n",
       "    <tr>\n",
       "      <th>7</th>\n",
       "      <td>2015-10-08</td>\n",
       "      <td>['We all have bills to pay. And whether it\\xe2...</td>\n",
       "      <td>-0.011554</td>\n",
       "    </tr>\n",
       "    <tr>\n",
       "      <th>8</th>\n",
       "      <td>2015-10-08</td>\n",
       "      <td>['   Google formally announced on Wednesday a ...</td>\n",
       "      <td>-0.011554</td>\n",
       "    </tr>\n",
       "    <tr>\n",
       "      <th>9</th>\n",
       "      <td>2015-10-08</td>\n",
       "      <td>['Digital versions of J.K. Rowling\\'s \"\"Harry ...</td>\n",
       "      <td>-0.011554</td>\n",
       "    </tr>\n",
       "    <tr>\n",
       "      <th>10</th>\n",
       "      <td>2015-10-08</td>\n",
       "      <td>['Apple today issued a statement which will ho...</td>\n",
       "      <td>-0.011554</td>\n",
       "    </tr>\n",
       "    <tr>\n",
       "      <th>11</th>\n",
       "      <td>2015-10-08</td>\n",
       "      <td>[\"\"  U.S. stocks closed higher Thursday, with ...</td>\n",
       "      <td>-0.011554</td>\n",
       "    </tr>\n",
       "    <tr>\n",
       "      <th>12</th>\n",
       "      <td>2015-10-08</td>\n",
       "      <td>['I\\xe2\\x80\\x99ll add one more REIT to our lis...</td>\n",
       "      <td>-0.011554</td>\n",
       "    </tr>\n",
       "    <tr>\n",
       "      <th>13</th>\n",
       "      <td>2015-10-08</td>\n",
       "      <td>['The iPhone 6s and iPhone 6s Plus have better...</td>\n",
       "      <td>-0.011554</td>\n",
       "    </tr>\n",
       "    <tr>\n",
       "      <th>14</th>\n",
       "      <td>2015-10-08</td>\n",
       "      <td>['Up next is a quirky REIT that I\\xe2\\x80\\x99v...</td>\n",
       "      <td>-0.011554</td>\n",
       "    </tr>\n",
       "    <tr>\n",
       "      <th>15</th>\n",
       "      <td>2015-10-08</td>\n",
       "      <td>[\"\"Less than a week ago the Dow Jones Industri...</td>\n",
       "      <td>-0.011554</td>\n",
       "    </tr>\n",
       "    <tr>\n",
       "      <th>16</th>\n",
       "      <td>2015-10-07</td>\n",
       "      <td>['Now that both\\xc2\\xa0iOS 9 and the iPhone 6s...</td>\n",
       "      <td>-0.004761</td>\n",
       "    </tr>\n",
       "    <tr>\n",
       "      <th>17</th>\n",
       "      <td>2015-10-07</td>\n",
       "      <td>['  As earnings season heats up, \"\"Fast Money\"...</td>\n",
       "      <td>-0.004761</td>\n",
       "    </tr>\n",
       "    <tr>\n",
       "      <th>18</th>\n",
       "      <td>2015-10-07</td>\n",
       "      <td>['\\xe2\\x80\\x9cSteve Jobs\\xe2\\x80\\x9d hasn\\xe2\\...</td>\n",
       "      <td>-0.004761</td>\n",
       "    </tr>\n",
       "    <tr>\n",
       "      <th>19</th>\n",
       "      <td>2015-10-07</td>\n",
       "      <td>['Advertisers are having a Moment moment.', 'I...</td>\n",
       "      <td>-0.004761</td>\n",
       "    </tr>\n",
       "    <tr>\n",
       "      <th>20</th>\n",
       "      <td>2015-10-07</td>\n",
       "      <td>['* U.S. stocks briefly turn negative', '* Cru...</td>\n",
       "      <td>-0.004761</td>\n",
       "    </tr>\n",
       "    <tr>\n",
       "      <th>21</th>\n",
       "      <td>2015-10-07</td>\n",
       "      <td>['With the rollout this season of RFID (radio-...</td>\n",
       "      <td>-0.004761</td>\n",
       "    </tr>\n",
       "    <tr>\n",
       "      <th>22</th>\n",
       "      <td>2015-10-07</td>\n",
       "      <td>['CNBC \"\"Halftime Report\"\" trader Joe Terranov...</td>\n",
       "      <td>-0.004761</td>\n",
       "    </tr>\n",
       "    <tr>\n",
       "      <th>23</th>\n",
       "      <td>2015-10-07</td>\n",
       "      <td>['From most vantage points in the San Francisc...</td>\n",
       "      <td>-0.004761</td>\n",
       "    </tr>\n",
       "    <tr>\n",
       "      <th>24</th>\n",
       "      <td>2015-10-07</td>\n",
       "      <td>['  European stocks pared gains to close flat ...</td>\n",
       "      <td>-0.004761</td>\n",
       "    </tr>\n",
       "    <tr>\n",
       "      <th>25</th>\n",
       "      <td>2015-10-07</td>\n",
       "      <td>['  The \"\"Halftime Report\"\" closed the show wi...</td>\n",
       "      <td>-0.004761</td>\n",
       "    </tr>\n",
       "    <tr>\n",
       "      <th>26</th>\n",
       "      <td>2015-10-07</td>\n",
       "      <td>[\"\"  If you bought the new iPhone 6S recently ...</td>\n",
       "      <td>-0.004761</td>\n",
       "    </tr>\n",
       "    <tr>\n",
       "      <th>27</th>\n",
       "      <td>2015-10-07</td>\n",
       "      <td>['Earlier this week, news broke that the 2017 ...</td>\n",
       "      <td>-0.004761</td>\n",
       "    </tr>\n",
       "    <tr>\n",
       "      <th>28</th>\n",
       "      <td>2015-10-07</td>\n",
       "      <td>['Microsoft made a splash during its Tuesday W...</td>\n",
       "      <td>-0.004761</td>\n",
       "    </tr>\n",
       "    <tr>\n",
       "      <th>29</th>\n",
       "      <td>2015-10-07</td>\n",
       "      <td>['SEOUL-- Samsung Electronics Co. estimated it...</td>\n",
       "      <td>-0.004761</td>\n",
       "    </tr>\n",
       "    <tr>\n",
       "      <th>...</th>\n",
       "      <td>...</td>\n",
       "      <td>...</td>\n",
       "      <td>...</td>\n",
       "    </tr>\n",
       "    <tr>\n",
       "      <th>3437</th>\n",
       "      <td>2014-10-09</td>\n",
       "      <td>['  Activist investor Carl Icahn said he would...</td>\n",
       "      <td>0.002182</td>\n",
       "    </tr>\n",
       "    <tr>\n",
       "      <th>3438</th>\n",
       "      <td>2014-10-09</td>\n",
       "      <td>['  With another hideous day in the markets on...</td>\n",
       "      <td>0.002182</td>\n",
       "    </tr>\n",
       "    <tr>\n",
       "      <th>3439</th>\n",
       "      <td>2014-10-09</td>\n",
       "      <td>[\"\"  Investors just aren't sure what is real a...</td>\n",
       "      <td>0.002182</td>\n",
       "    </tr>\n",
       "    <tr>\n",
       "      <th>3440</th>\n",
       "      <td>2014-10-09</td>\n",
       "      <td>['A tweet from Carl Icahn regarding Apple spar...</td>\n",
       "      <td>0.002182</td>\n",
       "    </tr>\n",
       "    <tr>\n",
       "      <th>3441</th>\n",
       "      <td>2014-10-09</td>\n",
       "      <td>['Billionaire investor and Wall Street activis...</td>\n",
       "      <td>0.002182</td>\n",
       "    </tr>\n",
       "    <tr>\n",
       "      <th>3442</th>\n",
       "      <td>2014-10-10</td>\n",
       "      <td>['Apple (AAPL) has revealed just how well its ...</td>\n",
       "      <td>-0.002871</td>\n",
       "    </tr>\n",
       "    <tr>\n",
       "      <th>3443</th>\n",
       "      <td>2014-10-10</td>\n",
       "      <td>['  The CEO of Microsoft, Satya Nadella, has a...</td>\n",
       "      <td>-0.002871</td>\n",
       "    </tr>\n",
       "    <tr>\n",
       "      <th>3444</th>\n",
       "      <td>2014-10-10</td>\n",
       "      <td>['  The Apple Watch will be front and center o...</td>\n",
       "      <td>-0.002871</td>\n",
       "    </tr>\n",
       "    <tr>\n",
       "      <th>3445</th>\n",
       "      <td>2014-10-10</td>\n",
       "      <td>['  As Apple and Samsung duke it out over mark...</td>\n",
       "      <td>-0.002871</td>\n",
       "    </tr>\n",
       "    <tr>\n",
       "      <th>3446</th>\n",
       "      <td>2014-10-10</td>\n",
       "      <td>['We might not always talk about it, but\\xc2\\x...</td>\n",
       "      <td>-0.002871</td>\n",
       "    </tr>\n",
       "    <tr>\n",
       "      <th>3447</th>\n",
       "      <td>2014-10-10</td>\n",
       "      <td>['SAN FRANCISCO (MarketWatch) \\xe2\\x80\\x94 App...</td>\n",
       "      <td>-0.002871</td>\n",
       "    </tr>\n",
       "    <tr>\n",
       "      <th>3448</th>\n",
       "      <td>2014-10-08</td>\n",
       "      <td>['SAN FRANCISCO (MarketWatch) \\xe2\\x80\\x94 Tec...</td>\n",
       "      <td>0.020760</td>\n",
       "    </tr>\n",
       "    <tr>\n",
       "      <th>3449</th>\n",
       "      <td>2014-10-08</td>\n",
       "      <td>['Not content with dominating the news cycle f...</td>\n",
       "      <td>0.020760</td>\n",
       "    </tr>\n",
       "    <tr>\n",
       "      <th>3450</th>\n",
       "      <td>2014-10-08</td>\n",
       "      <td>['You can now control your smartphone with you...</td>\n",
       "      <td>0.020760</td>\n",
       "    </tr>\n",
       "    <tr>\n",
       "      <th>3451</th>\n",
       "      <td>2014-10-08</td>\n",
       "      <td>['\\xe2\\x80\\x9cHow did you get caught?\\xe2\\x80\\...</td>\n",
       "      <td>0.020760</td>\n",
       "    </tr>\n",
       "    <tr>\n",
       "      <th>3452</th>\n",
       "      <td>2014-10-08</td>\n",
       "      <td>['After a recent report revealed that the rede...</td>\n",
       "      <td>0.020760</td>\n",
       "    </tr>\n",
       "    <tr>\n",
       "      <th>3453</th>\n",
       "      <td>2014-10-08</td>\n",
       "      <td>['  Wall Street looked to be under continued p...</td>\n",
       "      <td>0.020760</td>\n",
       "    </tr>\n",
       "    <tr>\n",
       "      <th>3454</th>\n",
       "      <td>2014-10-08</td>\n",
       "      <td>[\"\"Personal computer sales fell in the third q...</td>\n",
       "      <td>0.020760</td>\n",
       "    </tr>\n",
       "    <tr>\n",
       "      <th>3455</th>\n",
       "      <td>2014-10-08</td>\n",
       "      <td>['The rumors were true: Apple\\xc2\\xa0just sent...</td>\n",
       "      <td>0.020760</td>\n",
       "    </tr>\n",
       "    <tr>\n",
       "      <th>3456</th>\n",
       "      <td>2014-10-08</td>\n",
       "      <td>['It\\xe2\\x80\\x99s no secret the demand for the...</td>\n",
       "      <td>0.020760</td>\n",
       "    </tr>\n",
       "    <tr>\n",
       "      <th>3457</th>\n",
       "      <td>2014-10-08</td>\n",
       "      <td>['The last time we wrote about Kano, the Londo...</td>\n",
       "      <td>0.020760</td>\n",
       "    </tr>\n",
       "    <tr>\n",
       "      <th>3458</th>\n",
       "      <td>2014-10-08</td>\n",
       "      <td>[\"\"  Some warehouse workers who fill orders fo...</td>\n",
       "      <td>0.020760</td>\n",
       "    </tr>\n",
       "    <tr>\n",
       "      <th>3459</th>\n",
       "      <td>2014-10-08</td>\n",
       "      <td>[' Apple will hold a \"\"special event\"\" on Oct....</td>\n",
       "      <td>0.020760</td>\n",
       "    </tr>\n",
       "    <tr>\n",
       "      <th>3460</th>\n",
       "      <td>2014-10-08</td>\n",
       "      <td>[\"\" Panasonic's Hideo Kawakami has wrestled wi...</td>\n",
       "      <td>0.020760</td>\n",
       "    </tr>\n",
       "    <tr>\n",
       "      <th>3461</th>\n",
       "      <td>2014-10-08</td>\n",
       "      <td>['  The financial implosion of Apple  supplier...</td>\n",
       "      <td>0.020760</td>\n",
       "    </tr>\n",
       "    <tr>\n",
       "      <th>3462</th>\n",
       "      <td>2014-10-08</td>\n",
       "      <td>['There\\xe2\\x80\\x99s a real question about whe...</td>\n",
       "      <td>0.020760</td>\n",
       "    </tr>\n",
       "    <tr>\n",
       "      <th>3463</th>\n",
       "      <td>2014-10-09</td>\n",
       "      <td>[\"\" Take a look at some of Thursday's midday m...</td>\n",
       "      <td>0.002182</td>\n",
       "    </tr>\n",
       "    <tr>\n",
       "      <th>3464</th>\n",
       "      <td>2014-10-09</td>\n",
       "      <td>['Apple has coined a new name for the higher r...</td>\n",
       "      <td>0.002182</td>\n",
       "    </tr>\n",
       "    <tr>\n",
       "      <th>3465</th>\n",
       "      <td>2014-10-09</td>\n",
       "      <td>['One of the more disappointing aspects of the...</td>\n",
       "      <td>0.002182</td>\n",
       "    </tr>\n",
       "    <tr>\n",
       "      <th>3466</th>\n",
       "      <td>2014-10-09</td>\n",
       "      <td>['Release the doves. The mere sense that the F...</td>\n",
       "      <td>0.002182</td>\n",
       "    </tr>\n",
       "  </tbody>\n",
       "</table>\n",
       "<p>3467 rows × 3 columns</p>\n",
       "</div>"
      ],
      "text/plain": [
       "      Fixeddates                                           Articles    return\n",
       "0     2015-10-08  ['If you\\xe2\\x80\\x99ve been following iPhone 6... -0.011554\n",
       "1     2015-10-08  ['(Adds comments on proposals to overhaul glob... -0.011554\n",
       "2     2015-10-08  ['Some of your favorite games are disappearing... -0.011554\n",
       "3     2015-10-08  ['In Australia, every brand of cigarettes look... -0.011554\n",
       "4     2015-10-08  ['Did God create the iMac? It\\xe2\\x80\\x99s not... -0.011554\n",
       "5     2015-10-08  ['BERLIN, Oct 8 (Reuters) - German Finance Min... -0.011554\n",
       "6     2015-10-08  ['Here are your Apple Rumors for today:', 'Mag... -0.011554\n",
       "7     2015-10-08  ['We all have bills to pay. And whether it\\xe2... -0.011554\n",
       "8     2015-10-08  ['   Google formally announced on Wednesday a ... -0.011554\n",
       "9     2015-10-08  ['Digital versions of J.K. Rowling\\'s \"\"Harry ... -0.011554\n",
       "10    2015-10-08  ['Apple today issued a statement which will ho... -0.011554\n",
       "11    2015-10-08  [\"\"  U.S. stocks closed higher Thursday, with ... -0.011554\n",
       "12    2015-10-08  ['I\\xe2\\x80\\x99ll add one more REIT to our lis... -0.011554\n",
       "13    2015-10-08  ['The iPhone 6s and iPhone 6s Plus have better... -0.011554\n",
       "14    2015-10-08  ['Up next is a quirky REIT that I\\xe2\\x80\\x99v... -0.011554\n",
       "15    2015-10-08  [\"\"Less than a week ago the Dow Jones Industri... -0.011554\n",
       "16    2015-10-07  ['Now that both\\xc2\\xa0iOS 9 and the iPhone 6s... -0.004761\n",
       "17    2015-10-07  ['  As earnings season heats up, \"\"Fast Money\"... -0.004761\n",
       "18    2015-10-07  ['\\xe2\\x80\\x9cSteve Jobs\\xe2\\x80\\x9d hasn\\xe2\\... -0.004761\n",
       "19    2015-10-07  ['Advertisers are having a Moment moment.', 'I... -0.004761\n",
       "20    2015-10-07  ['* U.S. stocks briefly turn negative', '* Cru... -0.004761\n",
       "21    2015-10-07  ['With the rollout this season of RFID (radio-... -0.004761\n",
       "22    2015-10-07  ['CNBC \"\"Halftime Report\"\" trader Joe Terranov... -0.004761\n",
       "23    2015-10-07  ['From most vantage points in the San Francisc... -0.004761\n",
       "24    2015-10-07  ['  European stocks pared gains to close flat ... -0.004761\n",
       "25    2015-10-07  ['  The \"\"Halftime Report\"\" closed the show wi... -0.004761\n",
       "26    2015-10-07  [\"\"  If you bought the new iPhone 6S recently ... -0.004761\n",
       "27    2015-10-07  ['Earlier this week, news broke that the 2017 ... -0.004761\n",
       "28    2015-10-07  ['Microsoft made a splash during its Tuesday W... -0.004761\n",
       "29    2015-10-07  ['SEOUL-- Samsung Electronics Co. estimated it... -0.004761\n",
       "...          ...                                                ...       ...\n",
       "3437  2014-10-09  ['  Activist investor Carl Icahn said he would...  0.002182\n",
       "3438  2014-10-09  ['  With another hideous day in the markets on...  0.002182\n",
       "3439  2014-10-09  [\"\"  Investors just aren't sure what is real a...  0.002182\n",
       "3440  2014-10-09  ['A tweet from Carl Icahn regarding Apple spar...  0.002182\n",
       "3441  2014-10-09  ['Billionaire investor and Wall Street activis...  0.002182\n",
       "3442  2014-10-10  ['Apple (AAPL) has revealed just how well its ... -0.002871\n",
       "3443  2014-10-10  ['  The CEO of Microsoft, Satya Nadella, has a... -0.002871\n",
       "3444  2014-10-10  ['  The Apple Watch will be front and center o... -0.002871\n",
       "3445  2014-10-10  ['  As Apple and Samsung duke it out over mark... -0.002871\n",
       "3446  2014-10-10  ['We might not always talk about it, but\\xc2\\x... -0.002871\n",
       "3447  2014-10-10  ['SAN FRANCISCO (MarketWatch) \\xe2\\x80\\x94 App... -0.002871\n",
       "3448  2014-10-08  ['SAN FRANCISCO (MarketWatch) \\xe2\\x80\\x94 Tec...  0.020760\n",
       "3449  2014-10-08  ['Not content with dominating the news cycle f...  0.020760\n",
       "3450  2014-10-08  ['You can now control your smartphone with you...  0.020760\n",
       "3451  2014-10-08  ['\\xe2\\x80\\x9cHow did you get caught?\\xe2\\x80\\...  0.020760\n",
       "3452  2014-10-08  ['After a recent report revealed that the rede...  0.020760\n",
       "3453  2014-10-08  ['  Wall Street looked to be under continued p...  0.020760\n",
       "3454  2014-10-08  [\"\"Personal computer sales fell in the third q...  0.020760\n",
       "3455  2014-10-08  ['The rumors were true: Apple\\xc2\\xa0just sent...  0.020760\n",
       "3456  2014-10-08  ['It\\xe2\\x80\\x99s no secret the demand for the...  0.020760\n",
       "3457  2014-10-08  ['The last time we wrote about Kano, the Londo...  0.020760\n",
       "3458  2014-10-08  [\"\"  Some warehouse workers who fill orders fo...  0.020760\n",
       "3459  2014-10-08  [' Apple will hold a \"\"special event\"\" on Oct....  0.020760\n",
       "3460  2014-10-08  [\"\" Panasonic's Hideo Kawakami has wrestled wi...  0.020760\n",
       "3461  2014-10-08  ['  The financial implosion of Apple  supplier...  0.020760\n",
       "3462  2014-10-08  ['There\\xe2\\x80\\x99s a real question about whe...  0.020760\n",
       "3463  2014-10-09  [\"\" Take a look at some of Thursday's midday m...  0.002182\n",
       "3464  2014-10-09  ['Apple has coined a new name for the higher r...  0.002182\n",
       "3465  2014-10-09  ['One of the more disappointing aspects of the...  0.002182\n",
       "3466  2014-10-09  ['Release the doves. The mere sense that the F...  0.002182\n",
       "\n",
       "[3467 rows x 3 columns]"
      ]
     },
     "execution_count": 3,
     "metadata": {},
     "output_type": "execute_result"
    }
   ],
   "source": [
    "article_test"
   ]
  },
  {
   "cell_type": "code",
   "execution_count": 4,
   "metadata": {
    "collapsed": false
   },
   "outputs": [
    {
     "name": "stdout",
     "output_type": "stream",
     "text": [
      "Parsing train reviews...\n"
     ]
    }
   ],
   "source": [
    "print \"Parsing train reviews...\"\n",
    "\n",
    "opinions = []\n",
    "for opinion in article['Articles']:\n",
    "    opinions.append( \" \".join( KaggleWord2VecUtility.review_to_wordlist( opinion )))"
   ]
  },
  {
   "cell_type": "code",
   "execution_count": 5,
   "metadata": {
    "collapsed": false
   },
   "outputs": [
    {
     "name": "stdout",
     "output_type": "stream",
     "text": [
      "Parsing test reviews...\n"
     ]
    }
   ],
   "source": [
    "print \"Parsing test reviews...\"\n",
    "\n",
    "opinions_test = []\n",
    "for opinion_test in article_test['Articles']:\n",
    "    opinions_test.append( \" \".join( KaggleWord2VecUtility.review_to_wordlist( opinion_test )))"
   ]
  },
  {
   "cell_type": "code",
   "execution_count": 8,
   "metadata": {
    "collapsed": false
   },
   "outputs": [
    {
     "name": "stdout",
     "output_type": "stream",
     "text": [
      "Creating the bag of words...\n",
      "\n"
     ]
    }
   ],
   "source": [
    "##countVectorizer\n",
    "print \"Creating the bag of words...\\n\"\n",
    "from sklearn.feature_extraction.text import CountVectorizer\n",
    "\n",
    "# Initialize the \"CountVectorizer\" object, which is scikit-learn's\n",
    "# bag of words tool.  \n",
    "vectorizer = CountVectorizer(analyzer = \"word\",   \\\n",
    "                             tokenizer = None,    \\\n",
    "                             preprocessor = None, \\\n",
    "                             stop_words = None,   \\\n",
    "                             max_features = 5000) \n",
    "\n",
    "# fit_transform() does two functions: First, it fits the model\n",
    "# and learns the vocabulary; second, it transforms our training data\n",
    "# into feature vectors. The input to fit_transform should be a list of \n",
    "# strings.\n",
    "train_data_features = vectorizer.fit_transform(opinions)\n",
    "\n",
    "# Numpy arrays are easy to work with, so convert the result to an \n",
    "# array\n",
    "train_data_features = train_data_features.toarray()"
   ]
  },
  {
   "cell_type": "code",
   "execution_count": 9,
   "metadata": {
    "collapsed": false
   },
   "outputs": [
    {
     "data": {
      "text/plain": [
       "(8090, 5000)"
      ]
     },
     "execution_count": 9,
     "metadata": {},
     "output_type": "execute_result"
    }
   ],
   "source": [
    "###count shape\n",
    "train_data_features.shape"
   ]
  },
  {
   "cell_type": "code",
   "execution_count": 10,
   "metadata": {
    "collapsed": false
   },
   "outputs": [
    {
     "data": {
      "text/plain": [
       "array([0, 0, 0, ..., 0, 0, 0])"
      ]
     },
     "execution_count": 10,
     "metadata": {},
     "output_type": "execute_result"
    }
   ],
   "source": [
    "train_data_features[1]"
   ]
  },
  {
   "cell_type": "code",
   "execution_count": 11,
   "metadata": {
    "collapsed": true
   },
   "outputs": [
    {
     "name": "stdout",
     "output_type": "stream",
     "text": [
      "[u'aa', u'aal', u'aapl', u'abc', u'ability', u'able', u'about', u'above', u'abroad', u'absence', u'absolute', u'absolutely', u'abx', u'accelerate', u'accelerated', u'accept', u'accepted', u'accepting', u'access', u'accessible', u'accessories', u'accessory', u'according', u'account', u'accounted', u'accounting', u'accounts', u'accuracy', u'accurate', u'accused', u'achieve', u'achievements', u'acknowledged', u'acquire', u'acquired', u'acquisition', u'acquisitions', u'across', u'act', u'acting', u'action', u'actions', u'activate', u'active', u'actively', u'activist', u'activists', u'activities', u'activity', u'acts', u'actual', u'actually', u'ad', u'adam', u'adami', u'adams', u'adapt', u'adapter', u'add', u'added', u'adding', u'addition', u'additional', u'additionally', u'address', u'addresses', u'adds', u'adjust', u'adjusted', u'adjustments', u'administration', u'adobe', u'adopt', u'adoption', u'adp', u'ads', u'adults', u'advance', u'advanced', u'advancers', u'advancing', u'advantage', u'advantages', u'adventure', u'advertisers', u'advertising', u'advice', u'advisors', u'aesthetic', u'affect', u'affected', u'affecting', u'affiliate', u'afford', u'affordable', u'aforementioned', u'africa', u'after', u'afternoon', u'ag', u'again', u'against', u'age', u'agencies', u'agency', u'ages', u'aggressive', u'aggressively', u'ago', u'agrawal', u'agree', u'agreed', u'agreement', u'agreements', u'ahead', u'ahrendts', u'ai', u'aid', u'aim', u'aimed', u'aiming', u'aims', u'air', u'airbnb', u'aircraft', u'airline', u'airlines', u'airplay', u'airport', u'alan', u'alarm', u'album', u'albums', u'alcoa', u'alert', u'alerts', u'alex', u'algorithm', u'algorithms', u'alibaba', u'all', u'alleged', u'alley', u'allow', u'allowed', u'allowing', u'allows', u'almost', u'alone', u'along', u'alongside', u'alpha', u'alphabet', u'already', u'also', u'alternative', u'alternatives', u'although', u'alto', u'altogether', u'aluminum', u'always', u'am', u'amat', u'amazing', u'amazon', u'ambitions', u'ambitious', u'amd', u'america', u'american', u'americans', u'amid', u'among', u'amount', u'amounts', u'amzn', u'an', u'analog', u'analysis', u'analyst', u'analysts', u'analytics', u'and', u'andrew', u'android', u'andy', u'angela', u'angeles', u'angle', u'animated', u'animation', u'announce', u'announced', u'announcement', u'announcements', u'announcing', u'annoying', u'annual', u'annually', u'anonymous', u'another', u'answer', u'answers', u'anti', u'anticipated', u'antitrust', u'antm', u'any', u'anymore', u'anyone', u'anything', u'anytime', u'anyway', u'anywhere', u'aol', u'apart', u'apartment', u'api', u'app', u'apparel', u'apparent', u'apparently', u'appeal', u'appealing', u'appeals', u'appear', u'appearance', u'appeared', u'appears', u'apple', u'appleinsider', u'appliances', u'application', u'applications', u'applied', u'apply', u'appointment', u'appreciate', u'approach', u'approaching', u'appropriate', u'approval', u'approved', u'approximately', u'apps', u'april', u'arcade', u'architecture', u'are', u'area', u'areas', u'aren', u'arguably', u'argue', u'argued', u'argues', u'argument', u'arm', u'armour', u'arms', u'around', u'arrangement', u'array', u'arrive', u'arrived', u'arrow', u'art', u'article', u'articles', u'artificial', u'artist', u'artists', u'arts', u'as', u'asia', u'asian', u'aside', u'ask', u'asked', u'asking', u'asks', u'aspect', u'assembly', u'asset', u'assets', u'assistant', u'associate', u'associated', u'associates', u'association', u'assume', u'assuming', u'at', u'athens', u'attached', u'attack', u'attacks', u'attempt', u'attempts', u'attention', u'attorney', u'attract', u'attracted', u'attractive', u'attributed', u'auction', u'audi', u'audience', u'audiences', u'audio', u'aug', u'augmented', u'august', u'australia', u'australian', u'authentication', u'author', u'authorities', u'auto', u'automaker', u'automakers', u'automatic', u'automatically', u'automotive', u'autonomous', u'avago', u'availability', u'available', u'average', u'averages', u'avoid', u'awaited', u'award', u'awards', u'aware', u'awareness', u'away', u'awesome', u'ba', u'baba', u'baby', u'bac', u'back', u'backdrop', u'backed', u'backers', u'background', u'backing', u'backup', u'bad', u'bag', u'baidu', u'bailout', u'baker', u'balance', u'ball', u'ban', u'band', u'bands', u'bank', u'banking', u'bankruptcy', u'banks', u'bar', u'barack', u'barclays', u'barely', u'bargain', u'barrel', u'base', u'based', u'basic', u'basically', u'basis', u'batch', u'batteries', u'battery', u'battle', u'bay', u'bbc', u'bbry', u'bby', u'be', u'beach', u'bear', u'bearish', u'bears', u'beat', u'beaten', u'beating', u'beats', u'beautiful', u'beauty', u'became', u'because', u'become', u'becomes', u'becoming', u'bed', u'been', u'beer', u'before', u'began', u'begin', u'beginning', u'begins', u'begun', u'behavior', u'behind', u'beijing', u'being', u'believe', u'believed', u'believes', u'bell', u'beloved', u'below', u'ben', u'benchmark', u'benchmarks', u'benefit', u'benefits', u'bengaluru', u'berkshire', u'besides', u'best', u'bet', u'beta', u'bets', u'better', u'betting', u'between', u'beyond', u'bgr', u'bhp', u'bid', u'bidu', u'big', u'bigger', u'biggest', u'bill', u'billion', u'billionaire', u'billions', u'bills', u'biotech', u'biotechnology', u'bird', u'bit', u'bitcoin', u'black', u'blackberry', u'blame', u'blind', u'block', u'blockbuster', u'blocked', u'blocking', u'blocks', u'blog', u'blood', u'bloomberg', u'blow', u'blue', u'bluetooth', u'blur', u'bmw', u'bmy', u'board', u'boards', u'boasts', u'bob', u'body', u'boeing', u'bold', u'bond', u'bonds', u'bonus', u'boockvar', u'book', u'books', u'boom', u'boost', u'boosted', u'boot', u'border', u'borders', u'boring', u'born', u'boss', u'boston', u'both', u'bottom', u'bought', u'bounce', u'bound', u'bowl', u'box', u'boxes', u'boy', u'bp', u'brain', u'brand', u'branded', u'brands', u'brazil', u'breach', u'breadth', u'break', u'breakdown', u'breaking', u'breakout', u'breaks', u'breakthrough', u'breath', u'brent', u'brian', u'brick', u'bridge', u'brief', u'briefly', u'bright', u'brightness', u'brilliant', u'bring', u'bringing', u'brings', u'british', u'broad', u'broadband', u'broadcast', u'broadcom', u'broader', u'broadly', u'broke', u'broken', u'brokerage', u'brothers', u'brought', u'brown', u'browse', u'browser', u'browsing', u'btc', u'btig', u'bubble', u'budget', u'buffett', u'bug', u'bugs', u'buick', u'build', u'building', u'buildings', u'built', u'bulbs', u'bulk', u'bull', u'bullish', u'bulls', u'bump', u'bunch', u'bundle', u'burberry', u'burger', u'burn', u'bus', u'bush', u'business', u'businesses', u'busy', u'but', u'button', u'buttons', u'buy', u'buyback', u'buybacks', u'buyer', u'buyers', u'buying', u'buzz', u'buzzfeed', u'bx', u'by', u'ca', u'cable', u'cables', u'calculations', u'calculator', u'calendar', u'calif', u'california', u'call', u'called', u'calling', u'calls', u'calories', u'cam', u'came', u'camera', u'cameras', u'campaign', u'campaigns', u'campus', u'can', u'canada', u'canadian', u'cancer', u'cand', u'candidate', u'candidates', u'candy', u'cannot', u'cap', u'capabilities', u'capability', u'capable', u'capacity', u'capital', u'capitalization', u'capitan', u'capple', u'caps', u'capture', u'captured', u'car', u'carbon', u'card', u'cardboard', u'cardillo', u'cards', u'care', u'career', u'careful', u'carefully', u'carl', u'carplay', u'carrier', u'carriers', u'carry', u'carrying', u'cars', u'cas', u'case', u'cases', u'cash', u'cast', u'casual', u'cat', u'catalog', u'catalyst', u'catch', u'catching', u'categories', u'category', u'caterpillar', u'caught', u'cause', u'caused', u'causing', u'caution', u'cautious', u'cboe', u'cbs', u'cbut', u'ceiling', u'celebrities', u'celebrity', u'celg', u'cell', u'cellular', u'cent', u'center', u'centers', u'central', u'cents', u'century', u'ceo', u'ceos', u'certain', u'certainly', u'ces', u'cfor', u'cget', u'chain', u'chains', u'chair', u'chairman', u'challenge', u'challenges', u'challenging', u'chance', u'chances', u'change', u'changed', u'changes', u'changing', u'channel', u'channels', u'character', u'characters', u'charge', u'charged', u'charger', u'charges', u'charging', u'charles', u'charlie', u'charon', u'chart', u'charter', u'charts', u'chase', u'chat', u'cheap', u'cheaper', u'cheapest', u'check', u'checking', u'checkout', u'checks', u'chemical', u'chen', u'chevron', u'chicago', u'chicken', u'chief', u'child', u'children', u'china', u'chinese', u'chip', u'chipmaker', u'chipotle', u'chips', u'choice', u'choices', u'choose', u'choosing', u'chose', u'chosen', u'chris', u'christmas', u'christopher', u'chrome', u'chromecast', u'chrysler', u'ci', u'cif', u'cin', u'cincinnati', u'circle', u'circuit', u'cisco', u'cit', u'cited', u'citi', u'cities', u'citigroup', u'citing', u'citizens', u'city', u'civic', u'civil', u'claim', u'claimed', u'claiming', u'claims', u'clarity', u'class', u'classes', u'classic', u'clean', u'clear', u'clearly', u'clever', u'click', u'clicking', u'client', u'clients', u'climate', u'climb', u'climbed', u'clinton', u'clip', u'clips', u'clock', u'close', u'closed', u'closely', u'closer', u'closes', u'closing', u'clothing', u'cloud', u'club', u'clues', u'cmls', u'cnbc', u'cno', u'co', u'coach', u'coal', u'coast', u'coca', u'code', u'codes', u'coffee', u'cola', u'cold', u'collaboration', u'collapse', u'colleagues', u'collect', u'collected', u'collection', u'collections', u'college', u'color', u'colorful', u'colors', u'column', u'com', u'combat', u'combination', u'combine', u'combined', u'combines', u'comcast', u'come', u'comedy', u'comes', u'comfort', u'comfortable', u'comic', u'coming', u'command', u'commands', u'comment', u'commentary', u'comments', u'commerce', u'commercial', u'commission', u'commitment', u'committed', u'committee', u'commodities', u'commodity', u'common', u'communicate', u'communication', u'communications', u'community', u'comp', u'compact', u'companies', u'companion', u'company', u'companyspotlight', u'comparable', u'compare', u'compared', u'compares', u'comparison', u'compatible', u'compelling', u'compensation', u'compete', u'competing', u'competition', u'competitive', u'competitor', u'competitors', u'complained', u'complaint', u'complaints', u'complete', u'completed', u'completely', u'complex', u'complicated', u'component', u'components', u'composite', u'comprehensive', u'computer', u'computers', u'computing', u'con', u'concept', u'concern', u'concerned', u'concerns', u'conclusion', u'condition', u'conditions', u'conducted', u'cone', u'conference', u'confidence', u'confident', u'confirm', u'confirmed', u'confusing', u'congress', u'connect', u'connected', u'connecting', u'connection', u'connections', u'connectivity', u'consecutive', u'consensus', u'conservative', u'consider', u'considered', u'considering', u'consistent', u'consistently', u'console', u'consoles', u'consolidation', u'constant', u'constantly', u'construction', u'consulting', u'consume', u'consumer', u'consumers', u'consumption', u'contact', u'contacts', u'contain', u'contains', u'content', u'contest', u'context', u'continue', u'continued', u'continues', u'continuing', u'contract', u'contracts', u'contrast', u'contributed', u'control', u'controlled', u'controller', u'controlling', u'controls', u'convenience', u'convenient', u'conversation', u'conversations', u'convert', u'convince', u'convinced', u'cook', u'cool', u'cop', u'copies', u'copper', u'copy', u'copyright', u'cord', u'core', u'corner', u'corp', u'corporate', u'corporation', u'corporations', u'correct', u'correction', u'cortana', u'cost', u'costs', u'could', u'couldn', u'count', u'counter', u'counting', u'countries', u'country', u'counts', u'couple', u'cour', u'course', u'court', u'cover', u'coverage', u'covered', u'covering', u'covers', u'cp', u'cpeople', u'cpu', u'crack', u'craft', u'crafted', u'cramer', u'crash', u'crazy', u'create', u'created', u'creates', u'creating', u'creation', u'creative', u'creativity', u'creator', u'creators', u'credit', u'creditors', u'crisis', u'critical', u'criticism', u'criticized', u'critics', u'crm', u'crop', u'cross', u'crowd', u'crowded', u'crown', u'crucial', u'crude', u'crystal', u'cso', u'csx', u'cthat', u'cthe', u'cthere', u'cthey', u'cthis', u'cto', u'ctrl', u'cue', u'cult', u'culture', u'cup', u'cupertino', u'currencies', u'currency', u'current', u'currentc', u'currently', u'curve', u'curved', u'custom', u'customer', u'customers', u'customizable', u'customize', u'cut', u'cuts', u'cutting', u'cvs', u'cwe', u'cwhat', u'cwhen', u'cyber', u'cybersecurity', u'cycle', u'cyou', u'daily', u'dal', u'damage', u'damages', u'dan', u'dangerous', u'daniel', u'dark', u'dashboard', u'data', u'database', u'date', u'dates', u'dating', u'david', u'dax', u'day', u'days', u'db', u'dd', u'de', u'dead', u'deadline', u'deal', u'dealing', u'deals', u'death', u'debate', u'debit', u'debt', u'debut', u'debuted', u'dec', u'decade', u'decades', u'december', u'decent', u'decide', u'decided', u'decision', u'decisions', u'deck', u'decline', u'declined', u'decliner', u'decliners', u'declines', u'declining', u'decrease', u'dedicated', u'deep', u'deeper', u'deeply', u'default', u'defense', u'deficit', u'defined', u'definitely', u'definition', u'degree', u'degrees', u'delay', u'delayed', u'delays', u'delete', u'deleted', u'deliver', u'delivered', u'delivering', u'delivers', u'delivery', u'dell', u'delta', u'demand', u'demo', u'democratic', u'demonstrated', u'denied', u'department', u'departure', u'depend', u'dependent', u'depending', u'depends', u'depot', u'depth', u'described', u'describes', u'description', u'design', u'designed', u'designer', u'designers', u'designing', u'designs', u'desire', u'desk', u'desktop', u'despite', u'destination', u'detail', u'detailed', u'detailing', u'details', u'detect', u'detection', u'determine', u'determined', u'deutsche', u'devaluation', u'develop', u'developed', u'developer', u'developers', u'developing', u'development', u'developments', u'device', u'devices', u'dia', u'dial', u'diary', u'did', u'didn', u'die', u'died', u'difference', u'differences', u'different', u'differently', u'difficult', u'difficulty', u'digit', u'digital', u'digits', u'dinner', u'dip', u'dipped', u'direct', u'direction', u'directions', u'directly', u'director', u'directors', u'dis', u'disable', u'disappointed', u'disappointing', u'disappointment', u'disca', u'disclose', u'disclosed', u'disclosure', u'disclosures', u'discount', u'discover', u'discovered', u'discovery', u'discretionary', u'discrimination', u'discuss', u'discussed', u'discussion', u'discussions', u'disease', u'dish', u'disney', u'display', u'displayed', u'displays', u'distance', u'distributed', u'distribution', u'district', u'ditch', u'dive', u'diversity', u'dividend', u'dividends', u'division', u'dj', u'djia', u'djnwires', u'dks', u'dna', u'dnkn', u'do', u'dock', u'doctor', u'doctors', u'document', u'documents', u'does', u'doesn', u'dog', u'doing', u'dollar', u'dollars', u'domestic', u'dominance', u'dominant', u'dominate', u'dominated', u'don', u'donald', u'done', u'door', u'doors', u'dorsey', u'dot', u'double', u'doubled', u'doubt', u'dow', u'down', u'downgraded', u'download', u'downloaded', u'downloading', u'downloads', u'downside', u'downturn', u'downward', u'dozen', u'dozens', u'dr', u'drag', u'dramatic', u'dramatically', u'draw', u'drawing', u'drawn', u'dream', u'drink', u'drinking', u'drive', u'driven', u'driver', u'drivers', u'drives', u'driving', u'drone', u'drones', u'drop', u'dropbox', u'dropped', u'dropping', u'drops', u'drove', u'drug', u'drugs', u'ds', u'dual', u'dubbed', u'due', u'dupont', u'durable', u'during', u'dutch', u'dynamic', u'each', u'ear', u'earlier', u'early', u'earn', u'earned', u'earning', u'earnings', u'earth', u'ease', u'easier', u'easiest', u'easily', u'easing', u'east', u'eastern', u'easy', u'eat', u'eating', u'ebay', u'ebola', u'ecb', u'economic', u'economics', u'economies', u'economist', u'economists', u'economy', u'ecosystem', u'ed', u'eddy', u'edge', u'edged', u'edges', u'edit', u'editing', u'edition', u'editor', u'education', u'edward', u'eem', u'efa', u'effect', u'effective', u'effectively', u'effects', u'efficiency', u'efficient', u'effort', u'efforts', u'efg', u'egg', u'eggs', u'eight', u'einhorn', u'either', u'el', u'election', u'electric', u'electricity', u'electronic', u'electronics', u'elegant', u'element', u'elements', u'eligible', u'elon', u'else', u'elsewhere', u'email', u'emails', u'embedded', u'embrace', u'emc', u'emerged', u'emergency', u'emerging', u'emoji', u'employee', u'employees', u'employment', u'enable', u'enabled', u'enables', u'enabling', u'encourage', u'encouraging', u'encrypted', u'encryption', u'end', u'ended', u'ending', u'endless', u'ends', u'enemies', u'enemy', u'energy', u'enforcement', u'engage', u'engaged', u'engagement', u'engine', u'engineer', u'engineering', u'engineers', u'english', u'enhance', u'enjoy', u'enjoyed', u'enormous', u'enough', u'ensure', u'enter', u'entered', u'entering', u'enterprise', u'entertainment', u'enthusiasm', u'entire', u'entirely', u'entrepreneur', u'entrepreneurs', u'entries', u'entry', u'environment', u'environmental', u'epic', u'episode', u'episodes', u'eps', u'equal', u'equally', u'equipment', u'equipped', u'equities', u'equity', u'equivalent', u'era', u'eric', u'ericsson', u'error', u'especially', u'espn', u'essential', u'essentially', u'established', u'estate', u'estimate', u'estimated', u'estimates', u'et', u'etc', u'etf', u'etfc', u'etfs', u'eu', u'euro', u'europe', u'european', u'euros', u'evans', u'even', u'evening', u'event', u'events', u'eventually', u'ever', u'evernote', u'every', u'everybody', u'everyday', u'everyone', u'everything', u'everywhere', u'evgn', u'evidence', u'evolution', u'ewg', u'ewj', u'ewq', u'ewz', u'ex', u'exact', u'exactly', u'example', u'examples', u'exas', u'exceeded', u'excel', u'excellent', u'except', u'exception', u'exchange', u'exchanges', u'excited', u'excitement', u'exciting', u'excluding', u'exclusive', u'exclusively', u'executive', u'executives', u'exercise', u'exist', u'existing', u'exists', u'exit', u'expand', u'expanded', u'expanding', u'expansion', u'expect', u'expectation', u'expectations', u'expected', u'expecting', u'expects', u'expense', u'expenses', u'expensive', u'experience', u'experienced', u'experiences', u'experiencing', u'experiment', u'expert', u'experts', u'expiration', u'explain', u'explained', u'explaining', u'explains', u'explanation', u'exploit', u'explore', u'exploring', u'export', u'exports', u'exposed', u'exposure', u'express', u'expressed', u'expression', u'extend', u'extended', u'extension', u'extensions', u'extensive', u'extent', u'external', u'extra', u'extreme', u'extremely', u'exxon', u'eye', u'eyes', u'face', u'facebook', u'faced', u'faces', u'facetime', u'facilities', u'facility', u'facing', u'fact', u'factor', u'factors', u'factory', u'facts', u'factset', u'fade', u'fail', u'failed', u'failing', u'failure', u'fair', u'fairly', u'fake', u'fall', u'fallen', u'falling', u'falls', u'familiar', u'families', u'family', u'famous', u'fan', u'fans', u'fantastic', u'fantasy', u'far', u'fargo', u'farm', u'fashion', u'fast', u'faster', u'fastest', u'fat', u'father', u'favor', u'favorable', u'favorite', u'favorites', u'fb', u'fbi', u'fbr', u'fbt', u'fcx', u'fear', u'fears', u'feature', u'featured', u'features', u'featuring', u'feb', u'february', u'fed', u'federal', u'fee', u'feed', u'feedback', u'feeds', u'feel', u'feeling', u'feels', u'fees', u'feet', u'fell', u'fellow', u'felt', u'female', u'festival', u'few', u'fewer', u'fi', u'fiber', u'field', u'fields', u'fifth', u'fight', u'fighter', u'fighting', u'figure', u'figured', u'figures', u'file', u'filed', u'files', u'filing', u'filings', u'fill', u'filled', u'film', u'films', u'filter', u'filters', u'final', u'finally', u'finance', u'financial', u'financials', u'financing', u'find', u'finding', u'findings', u'finds', u'fine', u'finerman', u'finger', u'fingerprint', u'fingers', u'finish', u'finished', u'finl', u'fire', u'fireeye', u'firm', u'firmly', u'firms', u'firmware', u'first', u'fiscal', u'fish', u'fisher', u'fit', u'fitbit', u'fitness', u'fits', u'five', u'fix', u'fixed', u'fixes', u'fl', u'flag', u'flagship', u'flash', u'flat', u'flaw', u'fleksy', u'flexible', u'flickr', u'flight', u'flip', u'floor', u'florida', u'flow', u'flows', u'fly', u'flying', u'focus', u'focused', u'focuses', u'focusing', u'folder', u'folders', u'folks', u'follow', u'followed', u'followers', u'following', u'follows', u'fomc', u'font', u'fonts', u'food', u'foods', u'foot', u'footage', u'footprint', u'for', u'forbes', u'force', u'forced', u'forces', u'ford', u'forecast', u'forecasts', u'foreign', u'forever', u'forget', u'form', u'format', u'formats', u'former', u'forms', u'formula', u'forrester', u'forth', u'fortune', u'forward', u'foster', u'found', u'foundation', u'founded', u'founder', u'founders', u'four', u'foursquare', u'fourth', u'fox', u'foxa', u'foxconn', u'fraction', u'frame', u'frames', u'franc', u'france', u'franchise', u'francisco', u'frank', u'fraud', u'free', u'freedom', u'freely', u'french', u'frequency', u'frequently', u'fresh', u'friday', u'friend', u'friendly', u'friends', u'from', u'front', u'frozen', u'frustrating', u'fslr', u'fuel', u'fueled', u'full', u'fully', u'fun', u'function', u'functional', u'functionality', u'functions', u'fund', u'fundamental', u'fundamentals', u'funded', u'funding', u'funds', u'funny', u'furniture', u'further', u'furthermore', u'future', u'futures', u'fx', u'fy', u'gadget', u'gadgets', u'gain', u'gained', u'gaining', u'gains', u'galaxy', u'gallery', u'gamble', u'game', u'gameplay', u'games', u'gaming', u'gap', u'garage', u'gartner', u'gas', u'gates', u'gather', u'gauge', u'gave', u'gay', u'gb', u'gdp', u'gdx', u'ge', u'gear', u'gen', u'gender', u'gene', u'general', u'generally', u'generate', u'generated', u'generating', u'generation', u'generations', u'genius', u'genre', u'george', u'german', u'germany', u'gesture', u'gestures', u'get', u'gets', u'getting', u'ghost', u'ghz', u'giant', u'giants', u'gif', u'gifs', u'gift', u'gifts', u'gigantic', u'gild', u'gilead', u'girl', u'girls', u'give', u'given', u'gives', u'giving', u'glance', u'glass', u'gld', u'glimpse', u'global', u'globally', u'globe', u'gm', u'gmail', u'gmt', u'go', u'goal', u'goals', u'goes', u'going', u'gold', u'golden', u'goldman', u'gone', u'good', u'goods', u'goog', u'googl', u'google', u'gopro', u'gordon', u'gorgeous', u'got', u'gotten', u'gov', u'government', u'governments', u'governor', u'gps', u'grab', u'grade', u'grader', u'gradually', u'graftech', u'grand', u'granted', u'graph', u'graphic', u'graphics', u'graphs', u'grasso', u'gray', u'great', u'greater', u'greatest', u'greece', u'greek', u'green', u'greenback', u'grew', u'grid', u'grind', u'grocery', u'gross', u'ground', u'group', u'groups', u'grow', u'growing', u'grown', u'growth', u'gs', u'gt', u'guarantee', u'guard', u'guess', u'guidance', u'guide', u'guidelines', u'guitar', u'gun', u'gurman', u'guy', u'guys', u'habits', u'hack', u'hacked', u'hacker', u'hackers', u'hacking', u'hacks', u'had', u'hair', u'half', u'halftime', u'hall', u'hand', u'handed', u'handful', u'handle', u'hands', u'handset', u'handsets', u'handy', u'hang', u'happen', u'happened', u'happening', u'happens', u'happy', u'hard', u'harder', u'hardly', u'hardware', u'has', u'hasn', u'hate', u'have', u'haven', u'having', u'hbo', u'hd', u'he', u'head', u'headed', u'heading', u'headline', u'headlines', u'headphone', u'headphones', u'headquarters', u'heads', u'headset', u'headwinds', u'health', u'healthcare', u'healthy', u'hear', u'heard', u'hearing', u'heart', u'heat', u'heavily', u'heavy', u'heck', u'hedge', u'heels', u'held', u'hell', u'hello', u'help', u'helped', u'helpful', u'helping', u'helps', u'her', u'here', u'hero', u'hewlett', u'hey', u'hidden', u'hide', u'high', u'higher', u'highest', u'highlight', u'highlighted', u'highlighting', u'highlights', u'highly', u'highs', u'highway', u'hike', u'hillary', u'him', u'himself', u'hint', u'hints', u'hire', u'hired', u'hiring', u'his', u'historic', u'historical', u'historically', u'history', u'hit', u'hits', u'hitting', u'hog', u'hogan', u'hok', u'hold', u'holding', u'holdings', u'holds', u'hole', u'holiday', u'holidays', u'hollywood', u'home', u'homekit', u'homes', u'honest', u'hong', u'hop', u'hope', u'hoped', u'hopefully', u'hopes', u'hoping', u'horizon', u'horizons', u'horizontal', u'horror', u'host', u'hosts', u'hot', u'hotel', u'hotels', u'hottest', u'hour', u'hourly', u'hours', u'house', u'household', u'housing', u'how', u'howard', u'however', u'hp', u'hpq', u'hsbc', u'htc', u'http', u'huawei', u'hub', u'huffman', u'huge', u'hulu', u'human', u'humans', u'hundred', u'hundreds', u'hurry', u'hurt', u'hybrid', u'hype', u'ibb', u'ibm', u'icahn', u'ice', u'icloud', u'icon', u'iconic', u'icons', u'id', u'idc', u'idea', u'ideal', u'ideas', u'identical', u'identified', u'identify', u'identity', u'if', u'ignore', u'ihs', u'ii', u'ijr', u'illegal', u'illustrated', u'imac', u'image', u'images', u'imagine', u'imax', u'imessage', u'immediate', u'immediately', u'immersive', u'impact', u'impacted', u'implications', u'import', u'importance', u'important', u'importantly', u'imports', u'impossible', u'impressed', u'impressive', u'improve', u'improved', u'improvement', u'improvements', u'improving', u'in', u'inc', u'incentive', u'inch', u'inches', u'include', u'included', u'includes', u'including', u'income', u'incorporate', u'increase', u'increased', u'increases', u'increasing', u'increasingly', u'incredible', u'incredibly', u'indeed', u'independent', u'index', u'indexes', u'india', u'indian', u'indiana', u'indicate', u'indicated', u'indicates', u'indicating', u'indication', u'indicator', u'indicators', u'indices', u'indie', u'individual', u'individuals', u'industrial', u'industrials', u'industries', u'industry', u'infected', u'inflation', u'influence', u'info', u'information', u'infrastructure', u'initial', u'initially', u'initiative', u'initiatives', u'innovation', u'innovations', u'innovative', u'input', u'insane', u'inside', u'insider', u'insight', u'insights', u'inspired', u'instagram', u'install', u'installed', u'installing', u'instance', u'instant', u'instantly', u'instead', u'institute', u'institutional', u'institutions', u'instructions', u'instruments', u'insurance', u'intc', u'integrate', u'integrated', u'integration', u'intel', u'intellectual', u'intelligence', u'intelligent', u'intended', u'intends', u'intense', u'interact', u'interaction', u'interactions', u'interactive', u'interest', u'interested', u'interesting', u'interestingly', u'interests', u'interface', u'interim', u'internal', u'international', u'internet', u'interview', u'into', u'intraday', u'intriguing', u'introduce', u'introduced', u'introducing', u'introduction', u'intuitive', u'inventories', u'inventory', u'invest', u'invested', u'investigation', u'investing', u'investment', u'investments', u'investor', u'investorplace', u'investors', u'invite', u'involve', u'involved', u'involving', u'ios', u'ip', u'ipad', u'ipads', u'iphone', u'iphones', u'ipo', u'ipod', u'iq', u'iran', u'ireland', u'iron', u'is', u'ishares', u'isin', u'island', u'isn', u'issue', u'issued', u'issues', u'it', u'italian', u'item', u'items', u'its', u'itself', u'itunes', u'ive', u'ives', u'iwm', u'jack', u'jackson', u'jaffray', u'jailbreak', u'james', u'jan', u'janet', u'january', u'japan', u'japanese', u'jason', u'jawbone', u'jay', u'jcp', u'jd', u'jeff', u'jeffrey', u'jersey', u'jet', u'jim', u'job', u'jobless', u'jobs', u'joe', u'john', u'johnson', u'join', u'joined', u'joining', u'joint', u'joke', u'jon', u'jonathan', u'jones', u'jony', u'joseph', u'josh', u'journal', u'journey', u'joy', u'jpm', u'jpmorgan', u'judge', u'juice', u'july', u'jump', u'jumped', u'jumping', u'june', u'jury', u'just', u'justice', u'karen', u'kbh', u'keep', u'keeping', u'keeps', u'kelly', u'kept', u'kevin', u'key', u'keyboard', u'keyboards', u'keynote', u'keys', u'kick', u'kicked', u'kickstarter', u'kid', u'kids', u'kill', u'killer', u'kim', u'kind', u'kinds', u'king', u'kit', u'kitchen', u'kkr', u'kndi', u'knew', u'know', u'knowing', u'knowledge', u'known', u'knows', u'ko', u'kong', u'korea', u'korean', u'kors', u'kuo', u'la', u'lab', u'label', u'labels', u'labor', u'labs', u'lack', u'lacks', u'laggard', u'laid', u'land', u'landscape', u'lane', u'language', u'languages', u'laptop', u'laptops', u'large', u'largely', u'larger', u'largest', u'larry', u'las', u'last', u'late', u'lately', u'later', u'latest', u'latin', u'latter', u'launch', u'launched', u'launches', u'launching', u'law', u'laws', u'lawsuit', u'layer', u'layers', u'layout', u'lead', u'leader', u'leaderboards', u'leaders', u'leadership', u'leading', u'leads', u'league', u'leak', u'leaked', u'leaks', u'leap', u'learn', u'learned', u'learning', u'lease', u'least', u'leather', u'leave', u'leaves', u'leaving', u'lebenthal', u'led', u'lee', u'left', u'leg', u'legacy', u'legal', u'legislation', u'legitimate', u'lenders', u'length', u'lenovo', u'lens', u'less', u'let', u'lets', u'letter', u'letters', u'letting', u'level', u'levels', u'leverage', u'lg', u'library', u'license', u'licensing', u'lies', u'life', u'lifestyle', u'lift', u'lifted', u'light', u'lighter', u'lighting', u'lightning', u'lights', u'like', u'liked', u'likely', u'likes', u'limit', u'limited', u'limits', u'linda', u'lindsey', u'line', u'lines', u'lineup', u'link', u'linked', u'linkedin', u'links', u'liquid', u'liquidity', u'list', u'listed', u'listen', u'listeners', u'listening', u'listing', u'lists', u'literally', u'little', u'live', u'lived', u'lives', u'living', u'll', u'llc', u'lly', u'load', u'loaded', u'loan', u'loans', u'local', u'located', u'location', u'locations', u'lock', u'locked', u'loco', u'log', u'logic', u'logical', u'logo', u'london', u'long', u'longer', u'longtime', u'look', u'looked', u'looking', u'looks', u'loop', u'looppay', u'los', u'lose', u'losers', u'losing', u'loss', u'losses', u'lost', u'lot', u'lots', u'louis', u'love', u'loved', u'loves', u'low', u'lower', u'lowered', u'lowest', u'lows', u'loyal', u'loyalty', u'ltd', u'lte', u'luck', u'lucky', u'lucrative', u'lulu', u'lumen', u'lunch', u'luxembourg', u'luxury', u'lyft', u'lynch', u'lyrics', u'ma', u'mac', u'macbook', u'machine', u'machines', u'macro', u'macrumors', u'macs', u'macy', u'mad', u'madcap', u'made', u'magazine', u'magic', u'magnetic', u'mah', u'mail', u'main', u'mainland', u'mainly', u'mainstream', u'maintain', u'maintained', u'maintaining', u'major', u'majority', u'make', u'maker', u'makers', u'makes', u'making', u'male', u'malicious', u'mall', u'malware', u'man', u'manage', u'managed', u'management', u'manager', u'managers', u'managing', u'manhattan', u'manual', u'manually', u'manufacturer', u'manufacturers', u'manufacturing', u'many', u'map', u'mapping', u'maps', u'marc', u'march', u'marcus', u'margin', u'margins', u'marijuana', u'mark', u'marked', u'market', u'marketing', u'marketplace', u'markets', u'marketwatch', u'marks', u'mart', u'martin', u'marvel', u'mass', u'massive', u'master', u'mastercard', u'match', u'matching', u'material', u'materials', u'math', u'matt', u'matter', u'matters', u'max', u'maximum', u'may', u'maybe', u'mbly', u'mcafee', u'mcd', u'mcdonald', u'mcx', u'mdy', u'me', u'mean', u'meaning', u'meaningful', u'means', u'meant', u'meantime', u'meanwhile', u'measure', u'measured', u'measures', u'mechanical', u'media', u'median', u'medical', u'medicine', u'medium', u'meet', u'meeting', u'meetings', u'megapixel', u'member', u'members', u'memo', u'memories', u'memory', u'men', u'mention', u'mentioned', u'menu', u'menus', u'mercantile', u'mercedes', u'merchant', u'merchants', u'merck', u'mere', u'merely', u'merge', u'merger', u'mess', u'message', u'messages', u'messaging', u'messenger', u'met', u'metal', u'method', u'methods', u'metric', u'metrics', u'mexico', u'michael', u'micro', u'microphone', u'microsoft', u'mid', u'midday', u'middle', u'might', u'mike', u'miles', u'military', u'millennials', u'miller', u'million', u'millions', u'mind', u'minds', u'mine', u'mini', u'minimal', u'minimum', u'mining', u'minis', u'minister', u'minor', u'minute', u'minutes', u'mirror', u'miss', u'missed', u'missing', u'mission', u'missions', u'mistake', u'mix', u'mixed', u'mjna', u'mm', u'mobil', u'mobile', u'mod', u'mode', u'model', u'models', u'moderate', u'modern', u'modes', u'modest', u'module', u'molly', u'mom', u'moment', u'moments', u'momentum', u'monday', u'monetary', u'money', u'monitor', u'monitoring', u'monster', u'month', u'monthly', u'months', u'mood', u'moon', u'more', u'moreapple', u'morecramer', u'moreearly', u'morehow', u'moreover', u'morethe', u'morewhat', u'morewhy', u'morgan', u'morning', u'mortgage', u'most', u'mostly', u'mother', u'motion', u'moto', u'motor', u'motorola', u'motors', u'mountain', u'mouse', u'move', u'moved', u'movement', u'movements', u'movers', u'moves', u'movie', u'movies', u'moving', u'mp', u'mr', u'mrk', u'ms', u'msft', u'mtw', u'mu', u'much', u'multi', u'multiple', u'multitasking', u'munster', u'murphy', u'music', u'musical', u'musicians', u'musk', u'must', u'mutual', u'mvno', u'mvnos', u'my', u'myself', u'mystery', u'nadella', u'najarian', u'name', u'named', u'names', u'nand', u'nasa', u'nasdaq', u'nathan', u'nation', u'national', u'native', u'natural', u'naturally', u'nature', u'navigate', u'navigation', u'nbc', u'nbcuniversal', u'ncaption', u'ne', u'near', u'nearby', u'nearly', u'necessarily', u'necessary', u'nee', u'need', u'needed', u'needle', u'needs', u'negative', u'negotiations', u'neighborhood', u'neither', u'nem', u'nervous', u'nessential', u'nest', u'net', u'netflix', u'network', u'networking', u'networks', u'neutral', u'never', u'new', u'newer', u'newest', u'newly', u'news', u'newspaper', u'next', u'nexus', u'nfc', u'nflx', u'nice', u'niche', u'nick', u'nifty', u'night', u'nike', u'nikkei', u'nine', u'nintendo', u'nit', u'nke', u'no', u'noble', u'nobody', u'noise', u'nok', u'nokia', u'non', u'none', u'nonetheless', u'nor', u'normal', u'normally', u'north', u'not', u'notable', u'notably', u'note', u'noted', u'notes', u'nothing', u'notice', u'noticed', u'notification', u'notifications', u'noting', u'notion', u'nov', u'novel', u'november', u'now', u'nowhere', u'npause', u'nthe', u'ntweet', u'number', u'numbers', u'numerous', u'nvidia', u'nyou', u'nyse', u'obama', u'object', u'objects', u'obtained', u'obvious', u'obviously', u'oc', u'occur', u'oct', u'october', u'oculus', u'odds', u'of', u'off', u'offer', u'offered', u'offering', u'offerings', u'offers', u'office', u'officer', u'offices', u'official', u'officially', u'officials', u'offline', u'offset', u'often', u'oh', u'oil', u'ok', u'okay', u'old', u'older', u'on', u'once', u'one', u'ones', u'ongoing', u'online', u'only', u'onto', u'open', u'opened', u'opening', u'opens', u'operate', u'operates', u'operating', u'operation', u'operations', u'operator', u'operators', u'opinion', u'opinions', u'opportunities', u'opportunity', u'opposed', u'opposite', u'opt', u'optical', u'optimism', u'optimistic', u'optimized', u'option', u'optional', u'options', u'or', u'oracle', u'orange', u'order', u'ordered', u'ordering', u'orders', u'org', u'organic', u'organization', u'organizations', u'organize', u'organized', u'orientation', u'oriented', u'original', u'originally', u'os', u'oscar', u'other', u'others', u'otherwise', u'ounce', u'our', u'ourselves', u'out', u'outlets', u'outlook', u'outnumbered', u'outperform', u'outperformed', u'output', u'outside', u'outstanding', u'over', u'overall', u'overhaul', u'overhead', u'overnight', u'overseas', u'overweight', u'own', u'owned', u'owner', u'owners', u'ownership', u'owning', u'owns', u'oxy', u'pace', u'pacific', u'pack', u'package', u'packages', u'packaging', u'packard', u'packed', u'packs', u'page', u'pages', u'paid', u'pain', u'paint', u'pair', u'palo', u'pan', u'pandora', u'panel', u'panels', u'panic', u'panorama', u'paper', u'parent', u'parents', u'paris', u'park', u'parker', u'parking', u'part', u'participants', u'particular', u'particularly', u'parties', u'partly', u'partner', u'partners', u'partnership', u'partnerships', u'parts', u'party', u'pass', u'passcode', u'passed', u'passing', u'password', u'passwords', u'past', u'patch', u'patent', u'patents', u'path', u'patient', u'patients', u'patrick', u'pattern', u'patterns', u'paul', u'pause', u'pay', u'paying', u'payment', u'payments', u'paypal', u'payrolls', u'pays', u'pbr', u'pc', u'pcs', u'pct', u'pdf', u'peace', u'peak', u'pebble', u'peek', u'peers', u'pen', u'pencil', u'penny', u'people', u'pep', u'per', u'percent', u'percentage', u'perfect', u'perfectly', u'perform', u'performance', u'performed', u'performing', u'perhaps', u'period', u'periods', u'permanent', u'person', u'personal', u'personalized', u'personally', u'perspective', u'pete', u'peter', u'petroleum', u'pfe', u'pg', u'phablet', u'pharmaceutical', u'pharmaceuticals', u'phase', u'phil', u'philadelphia', u'phm', u'phone', u'phones', u'photo', u'photographer', u'photography', u'photos', u'physical', u'pic', u'pick', u'picked', u'picking', u'picks', u'pickup', u'picture', u'pictures', u'pie', u'piece', u'pieces', u'pierce', u'pile', u'pilot', u'pin', u'pink', u'pinterest', u'pipeline', u'piper', u'pitch', u'pixel', u'pixels', u'pizza', u'place', u'placed', u'places', u'placing', u'plaintiffs', u'plan', u'plane', u'planet', u'planned', u'planning', u'plans', u'plant', u'plastic', u'platform', u'platforms', u'play', u'playable', u'playback', u'played', u'player', u'players', u'playing', u'playlist', u'playlists', u'plays', u'playstation', u'plc', u'please', u'plenty', u'plot', u'plug', u'plunge', u'plunged', u'plus', u'pluto', u'pm', u'pmi', u'pocket', u'pockets', u'podcast', u'point', u'pointed', u'pointing', u'points', u'poised', u'police', u'policies', u'policy', u'political', u'poll', u'polled', u'pool', u'poor', u'pop', u'pope', u'popular', u'popularity', u'population', u'port', u'portable', u'portfolio', u'portion', u'portrait', u'ports', u'position', u'positioned', u'positions', u'positive', u'possibilities', u'possibility', u'possible', u'possibly', u'post', u'posted', u'posting', u'posts', u'pot', u'potential', u'potentially', u'pound', u'pounds', u'power', u'powered', u'powerful', u'powers', u'practical', u'practically', u'practice', u'practices', u'pre', u'precious', u'precise', u'precision', u'predecessor', u'predict', u'predicted', u'predicting', u'predictions', u'predicts', u'prefer', u'preferences', u'preferred', u'premarket', u'premium', u'preorder', u'preorders', u'prepare', u'prepared', u'preparing', u'presence', u'present', u'presentation', u'presented', u'presents', u'presets', u'president', u'presidential', u'press', u'pressing', u'pressure', u'presumably', u'pretty', u'prevent', u'preview', u'previous', u'previously', u'price', u'priced', u'prices', u'pricing', u'primarily', u'primary', u'prime', u'principal', u'print', u'printed', u'printer', u'printing', u'prior', u'priority', u'privacy', u'private', u'pro', u'probably', u'probe', u'problem', u'problems', u'process', u'processes', u'processing', u'processor', u'processors', u'produce', u'produced', u'producer', u'producers', u'produces', u'producing', u'product', u'production', u'productivity', u'products', u'professional', u'professionals', u'professor', u'profile', u'profiles', u'profit', u'profitability', u'profitable', u'profits', u'program', u'programming', u'programs', u'progress', u'project', u'projected', u'projections', u'projects', u'prominent', u'promise', u'promised', u'promises', u'promising', u'promote', u'promotion', u'prompted', u'proof', u'proper', u'properly', u'properties', u'property', u'proposal', u'proposed', u'proprietary', u'pros', u'prospect', u'prospects', u'protect', u'protected', u'protecting', u'protection', u'prototype', u'proud', u'prove', u'proved', u'proven', u'provide', u'provided', u'provider', u'providers', u'provides', u'providing', u'proving', u'pts', u'public', u'publication', u'publicly', u'published', u'publishers', u'pull', u'pullback', u'pulled', u'pulling', u'purchase', u'purchased', u'purchases', u'purchasing', u'pure', u'purpose', u'purposes', u'push', u'pushed', u'pushing', u'put', u'puts', u'putting', u'puzzle', u'qcom', u'qqq', u'qualcomm', u'quality', u'quantitative', u'quantum', u'quarter', u'quarterly', u'quarters', u'question', u'questions', u'quick', u'quickly', u'quiet', u'quietly', u'quite', u'quote', u'race', u'racing', u'rad', u'radar', u'radio', u'radioshack', u'rails', u'rain', u'raise', u'raised', u'raises', u'raising', u'rallied', u'rally', u'ram', u'ramp', u'ran', u'random', u'range', u'ranging', u'ranked', u'ranking', u'ranks', u'rapid', u'rapidly', u'rare', u'rarely', u'rate', u'rated', u'rates', u'rather', u'rating', u'ratings', u'ratio', u'raw', u'ray', u'rbc', u're', u'reach', u'reached', u'reaching', u'react', u'reaction', u'read', u'reader', u'readers', u'reading', u'reads', u'ready', u'real', u'realistic', u'reality', u'realize', u'realized', u'really', u'rear', u'reason', u'reasonable', u'reasons', u'rebound', u'recall', u'receive', u'received', u'receiving', u'recent', u'recently', u'recession', u'recipe', u'recipes', u'recognition', u'recognize', u'recommend', u'recommendations', u'recommended', u'record', u'recorded', u'recording', u'recordings', u'records', u'recover', u'recovered', u'recovery', u'red', u'reddit', u'redesign', u'redesigned', u'reduce', u'reduced', u'reducing', u'reference', u'referred', u'referring', u'reflect', u'reflects', u'reform', u'reforms', u'refresh', u'regarding', u'regardless', u'region', u'regional', u'regions', u'register', u'registered', u'regular', u'regularly', u'regulations', u'regulators', u'regulatory', u'reiterated', u'rejected', u'related', u'relations', u'relationship', u'relationships', u'relative', u'relatively', u'release', u'released', u'releases', u'releasing', u'relevant', u'reliable', u'relief', u'relies', u'religious', u'rely', u'remain', u'remained', u'remaining', u'remains', u'remarkable', u'remarks', u'remember', u'remind', u'reminder', u'reminders', u'remix', u'remote', u'remotely', u'remove', u'removed', u'removing', u'renewable', u'rent', u'rental', u'repair', u'repeat', u'replace', u'replaced', u'replacement', u'replacing', u'report', u'reported', u'reportedly', u'reporters', u'reporting', u'reports', u'represent', u'represented', u'representing', u'represents', u'republic', u'republican', u'repurchase', u'reputation', u'request', u'requests', u'require', u'required', u'requirements', u'requires', u'requiring', u'research', u'researcher', u'researchers', u'researchkit', u'reserve', u'resistance', u'resistant', u'resolution', u'resources', u'respect', u'respectively', u'respond', u'responded', u'respondents', u'response', u'responses', u'responsibility', u'responsible', u'rest', u'restaurant', u'restaurants', u'restore', u'restructuring', u'rests', u'result', u'resulted', u'resulting', u'results', u'resume', u'retail', u'retailer', u'retailers', u'retina', u'retirement', u'return', u'returned', u'returning', u'returns', u'reuters', u'reveal', u'revealed', u'revealing', u'reveals', u'revenue', u'revenues', u'reversal', u'reverse', u'reversed', u'review', u'reviews', u'revised', u'revolution', u'revolutionary', u'reward', u'rewards', u'rf', u'rich', u'richard', u'rid', u'ride', u'ridiculous', u'riding', u'rig', u'right', u'rights', u'ring', u'rise', u'risen', u'rises', u'rising', u'risk', u'risks', u'rite', u'rival', u'rivals', u'road', u'roads', u'robert', u'roberts', u'robot', u'robotics', u'robots', u'robust', u'rock', u'rockwell', u'roku', u'role', u'roll', u'rolled', u'rolling', u'rollout', u'room', u'rose', u'ross', u'rotate', u'rotation', u'rough', u'roughly', u'round', u'rout', u'route', u'routes', u'row', u'royalties', u'royalty', u'rpg', u'ruble', u'rule', u'rules', u'ruling', u'rumor', u'rumored', u'rumors', u'run', u'running', u'runs', u'rush', u'russell', u'russia', u'russian', u'ryan', u'sachs', u'sad', u'safari', u'safe', u'safety', u'said', u'sale', u'sales', u'salesforce', u'sam', u'same', u'sample', u'samsung', u'san', u'sandisk', u'sap', u'sapphire', u'sat', u'satellite', u'satisfaction', u'saturation', u'saturday', u'save', u'saved', u'saving', u'savings', u'savio', u'savvy', u'saw', u'say', u'saying', u'says', u'sbux', u'scale', u'scan', u'scanner', u'scanning', u'scary', u'scenario', u'scene', u'scenes', u'schacknow', u'schedule', u'scheduled', u'scheme', u'school', u'schools', u'science', u'sciences', u'scientific', u'scientists', u'scope', u'score', u'scores', u'scott', u'scratch', u'screen', u'screens', u'screenshot', u'scroll', u'scrolling', u'sdk', u'sea', u'seamless', u'seamlessly', u'search', u'searches', u'searching', u'sears', u'season', u'seat', u'seattle', u'sec', u'second', u'secondary', u'seconds', u'secret', u'secretary', u'secrets', u'section', u'sector', u'sectors', u'secure', u'securities', u'security', u'see', u'seeing', u'seek', u'seeking', u'seeks', u'seem', u'seemed', u'seemingly', u'seems', u'seen', u'sees', u'segment', u'segments', u'select', u'selected', u'selection', u'self', u'selfie', u'sell', u'seller', u'sellers', u'selling', u'selloff', u'sells', u'semiconductor', u'senate', u'send', u'sending', u'sends', u'senior', u'sense', u'sensitive', u'sensor', u'sensors', u'sent', u'sentiment', u'separate', u'separately', u'sept', u'september', u'series', u'serious', u'seriously', u'serve', u'served', u'server', u'servers', u'serves', u'service', u'services', u'serving', u'session', u'sessions', u'set', u'sets', u'setting', u'settings', u'settle', u'settled', u'settlement', u'setup', u'seven', u'several', u'sex', u'seymour', u'shack', u'shak', u'shake', u'shanghai', u'shape', u'shaped', u'shapes', u'share', u'shared', u'shareholder', u'shareholders', u'shares', u'sharing', u'sharp', u'sharply', u'she', u'shed', u'sheet', u'shell', u'shelves', u'shift', u'shifting', u'shifts', u'ship', u'shipments', u'shipped', u'shipping', u'ships', u'shock', u'shoes', u'shoot', u'shooting', u'shop', u'shoppers', u'shopping', u'shops', u'short', u'shortage', u'shortly', u'shot', u'shots', u'should', u'shouldn', u'show', u'showcase', u'showed', u'shower', u'showing', u'shown', u'shows', u'shut', u'shutter', u'shy', u'side', u'sides', u'sight', u'sign', u'signal', u'signals', u'signature', u'signed', u'significant', u'significantly', u'signs', u'silent', u'silicon', u'silver', u'sim', u'similar', u'similarly', u'simon', u'simple', u'simpler', u'simplicity', u'simply', u'simultaneously', u'sina', u'since', u'singapore', u'singer', u'single', u'siri', u'sit', u'site', u'sites', u'sits', u'sitting', u'situation', u'six', u'sixth', u'size', u'sized', u'sizes', u'skeptical', u'skills', u'skin', u'skip', u'sky', u'skyworks', u'slated', u'sleek', u'sleep', u'slew', u'slice', u'slid', u'slide', u'slight', u'slightly', u'slim', u'sling', u'slipped', u'slot', u'slow', u'slowdown', u'slowed', u'slower', u'slowing', u'slowly', u'sluggish', u'slumped', u'small', u'smaller', u'smallest', u'smart', u'smartphone', u'smartphones', u'smartwatch', u'smartwatches', u'smith', u'smoke', u'smooth', u'sms', u'snap', u'snapchat', u'sndk', u'snow', u'snowden', u'so', u'soared', u'social', u'society', u'soft', u'software', u'solar', u'sold', u'solid', u'solution', u'solutions', u'solve', u'some', u'somehow', u'someone', u'something', u'sometime', u'sometimes', u'somewhat', u'somewhere', u'son', u'song', u'songs', u'sony', u'soon', u'sooner', u'sophisticated', u'sorry', u'sort', u'sorts', u'sought', u'sound', u'sounds', u'source', u'sources', u'south', u'southern', u'southwest', u'souza', u'space', u'spaces', u'spaceship', u'spain', u'spanish', u'spdr', u'speak', u'speaker', u'speakers', u'speaking', u'speaks', u'special', u'species', u'specific', u'specifically', u'specs', u'spectrum', u'speculation', u'speech', u'speed', u'speeds', u'spend', u'spending', u'spent', u'spike', u'spin', u'split', u'spls', u'spoke', u'spokesman', u'spokesperson', u'spokeswoman', u'sport', u'sports', u'spot', u'spotify', u'spotlight', u'spots', u'spotted', u'spread', u'spreads', u'spring', u'sprint', u'spwr', u'spx', u'spy', u'square', u'squawk', u'st', u'stability', u'stable', u'staff', u'stage', u'stages', u'stainless', u'stake', u'stakes', u'stance', u'stand', u'standalone', u'standard', u'standards', u'standing', u'stands', u'stanford', u'stanley', u'staples', u'star', u'starbucks', u'stars', u'start', u'started', u'starting', u'starts', u'startup', u'startups', u'state', u'stated', u'statement', u'states', u'station', u'stations', u'statistics', u'stats', u'status', u'stay', u'staying', u'steady', u'steal', u'steam', u'steel', u'steep', u'steer', u'stellar', u'step', u'stephen', u'stepped', u'steps', u'stern', u'steve', u'stick', u'sticker', u'stickers', u'stifel', u'still', u'stimulus', u'stock', u'stocks', u'stolen', u'stone', u'stood', u'stop', u'stopped', u'storage', u'store', u'stored', u'stores', u'stories', u'storm', u'story', u'straight', u'strange', u'strap', u'strategic', u'strategies', u'strategist', u'strategy', u'streak', u'stream', u'streaming', u'streams', u'street', u'streets', u'strength', u'stress', u'stretch', u'strike', u'strikes', u'striking', u'string', u'stripe', u'strong', u'stronger', u'strongest', u'strongly', u'struck', u'structure', u'struggle', u'struggled', u'struggling', u'stuck', u'student', u'students', u'studies', u'studio', u'studios', u'study', u'stuff', u'stunning', u'stupid', u'style', u'styles', u'stylish', u'stylus', u'sub', u'subject', u'subscribe', u'subscriber', u'subscribers', u'subscription', u'subscriptions', u'substantial', u'subtle', u'succeed', u'success', u'successful', u'successfully', u'such', u'suddenly', u'suffer', u'suffered', u'suggest', u'suggested', u'suggesting', u'suggestions', u'suggests', u'suisse', u'suit', u'suite', u'suits', u'summer', u'summit', u'sun', u'sunday', u'sune', u'super', u'superior', u'supplier', u'suppliers', u'supplies', u'supply', u'support', u'supported', u'supporting', u'supports', u'supposed', u'supposedly', u'sure', u'surely', u'surface', u'surge', u'surged', u'surpassed', u'surprise', u'surprised', u'surprising', u'surprisingly', u'surrounding', u'surveillance', u'survey', u'surveyed', u'survive', u'suspect', u'sustainable', u'swedish', u'sweet', u'swift', u'swing', u'swipe', u'swiping', u'swiss', u'switch', u'switching', u'switzerland', u'symbol', u'sync', u'system', u'systems', u'syy', u'tab', u'table', u'tablet', u'tablets', u'tag', u'tags', u'taiwan', u'take', u'taken', u'takeover', u'takes', u'taking', u'talent', u'talk', u'talked', u'talking', u'talks', u'tanya', u'tap', u'tape', u'tapping', u'taps', u'target', u'targeted', u'targeting', u'targets', u'task', u'tasks', u'taste', u'tax', u'taxes', u'taxi', u'taylor', u'teachers', u'team', u'teams', u'tech', u'techcrunch', u'technical', u'technically', u'technological', u'technologies', u'technology', u'ted', u'telecom', u'telecommunications', u'television', u'tell', u'telling', u'tells', u'temperature', u'template', u'temporary', u'ten', u'tend', u'tends', u'tens', u'term', u'terminals', u'terms', u'terranova', u'terrible', u'terrific', u'territory', u'tesla', u'test', u'tested', u'testing', u'tests', u'teva', u'texas', u'text', u'texting', u'texts', u'textures', u'tgt', u'th', u'than', u'thank', u'thanks', u'thanksgiving', u'that', u'the', u'theater', u'theft', u'their', u'them', u'theme', u'themes', u'themselves', u'then', u'theory', u'there', u'therefore', u'these', u'they', u'thick', u'thicker', u'thin', u'thing', u'things', u'think', u'thinking', u'thinks', u'thinner', u'third', u'thirds', u'this', u'thomas', u'thomson', u'those', u'though', u'thought', u'thoughts', u'thousand', u'thousands', u'threat', u'threats', u'three', u'through', u'throughout', u'throw', u'thursday', u'thus', u'tidal', u'tie', u'tied', u'tier', u'tif', u'tight', u'tilt', u'tim', u'time', u'timeline', u'timer', u'times', u'timing', u'tiny', u'tip', u'tips', u'tired', u'title', u'titles', u'tlt', u'tmus', u'tnet', u'to', u'today', u'together', u'tokyo', u'told', u'tom', u'tomorrow', u'ton', u'tone', u'tones', u'tonight', u'tons', u'too', u'took', u'tool', u'tools', u'top', u'topic', u'topped', u'topping', u'tops', u'total', u'totally', u'touch', u'touched', u'touching', u'touchscreen', u'tough', u'tour', u'toward', u'towards', u'tower', u'town', u'toy', u'toyota', u'toys', u'track', u'tracked', u'tracker', u'trackers', u'tracking', u'tracks', u'traction', u'trade', u'traded', u'trader', u'traders', u'trades', u'trading', u'traditional', u'traditionally', u'traffic', u'trailer', u'trails', u'train', u'training', u'transaction', u'transactions', u'transfer', u'transform', u'transit', u'transition', u'translate', u'transparency', u'transparent', u'transportation', u'transports', u'travel', u'treasury', u'treat', u'treatment', u'tremendous', u'trend', u'trends', u'trial', u'trick', u'tricks', u'tried', u'tries', u'trigger', u'trillion', u'trip', u'triple', u'trouble', u'true', u'truly', u'trump', u'trust', u'truth', u'try', u'trying', u'tsl', u'tsla', u'tsmc', u'tuesday', u'tumbled', u'tumblr', u'tune', u'turmoil', u'turn', u'turnaround', u'turned', u'turning', u'turns', u'tv', u'tvs', u'tweak', u'tweet', u'tweeted', u'tweets', u'twice', u'twitter', u'two', u'twtr', u'twx', u'type', u'types', u'typical', u'typically', u'typing', u'ua', u'ual', u'uber', u'ubs', u'ugly', u'ui', u'uk', u'ultimate', u'ultimately', u'ultra', u'un', u'unable', u'uncertainty', u'unchanged', u'unclear', u'under', u'underlying', u'understand', u'understanding', u'underway', u'unemployment', u'unexpected', u'unfortunately', u'union', u'unique', u'unit', u'united', u'units', u'universal', u'universe', u'university', u'unknown', u'unless', u'unlike', u'unlikely', u'unlimited', u'unlock', u'unlocked', u'unlocking', u'unprecedented', u'until', u'unusual', u'unveil', u'unveiled', u'unveiling', u'up', u'upbeat', u'upcoming', u'update', u'updated', u'updates', u'updating', u'upgrade', u'upgraded', u'upgrades', u'upgrading', u'upload', u'upon', u'upper', u'ups', u'upside', u'urban', u'uri', u'us', u'usa', u'usage', u'usb', u'use', u'used', u'useful', u'user', u'users', u'uses', u'using', u'uso', u'usual', u'usually', u'utilities', u'utility', u'vacation', u'vale', u'valley', u'valuable', u'valuation', u'valuations', u'value', u'valued', u'values', u'van', u'variety', u'various', u'vary', u'vast', u've', u'vegas', u'vehicle', u'vehicles', u'vendor', u'vendors', u'venture', u'ventures', u'verge', u'verizon', u'version', u'versions', u'versus', u'vertical', u'very', u'via', u'vice', u'victim', u'video', u'videos', u'view', u'viewed', u'viewer', u'viewers', u'viewing', u'views', u'vine', u'vintage', u'vip', u'virtual', u'virtually', u'visa', u'visible', u'vision', u'visit', u'visitors', u'visual', u'vix', u'voice', u'volatile', u'volatility', u'volkswagen', u'volume', u'volumes', u'vote', u'voting', u'vr', u'vs', u'vulnerabilities', u'vulnerability', u'vulnerable', u'vz', u'wage', u'wages', u'wait', u'waiting', u'wake', u'wal', u'walk', u'walking', u'wall', u'wallet', u'wallets', u'wallpaper', u'wallpapers', u'walls', u'walmart', u'walt', u'want', u'wanted', u'wants', u'war', u'warm', u'warned', u'warner', u'warning', u'warren', u'wars', u'was', u'washington', u'wasn', u'waste', u'watch', u'watched', u'watchers', u'watches', u'watching', u'water', u'watson', u'wave', u'waves', u'way', u'ways', u'we', u'weak', u'weaker', u'weakness', u'wealth', u'weapon', u'weapons', u'wear', u'wearable', u'wearables', u'wearing', u'weather', u'web', u'website', u'websites', u'wednesday', u'week', u'weekend', u'weekly', u'weeks', u'weigh', u'weighed', u'weighing', u'weighs', u'weight', u'weighted', u'weird', u'weiss', u'welcome', u'well', u'wells', u'went', u'were', u'weren', u'west', u'western', u'what', u'whatever', u'whatsapp', u'wheel', u'when', u'whenever', u'where', u'whereas', u'wherever', u'whether', u'which', u'while', u'white', u'who', u'whole', u'wholesale', u'whom', u'whopping', u'whose', u'why', u'wi', u'wide', u'widely', u'wider', u'widespread', u'widget', u'widgets', u'wife', u'wifi', u'wikipedia', u'wild', u'will', u'william', u'williams', u'willing', u'wilson', u'win', u'wind', u'window', u'windows', u'wing', u'winner', u'winners', u'winning', u'wins', u'winter', u'wire', u'wired', u'wireless', u'wise', u'wish', u'with', u'within', u'without', u'wmb', u'wmt', u'woman', u'women', u'won', u'wonder', u'wondering', u'wood', u'word', u'words', u'work', u'worked', u'worker', u'workers', u'workforce', u'working', u'workout', u'workouts', u'workplace', u'works', u'world', u'worldwide', u'worried', u'worries', u'worry', u'worse', u'worst', u'worth', u'would', u'wouldn', u'wrist', u'write', u'writer', u'writes', u'writing', u'written', u'wrong', u'wrote', u'wsj', u'wunderlich', u'wwdc', u'www', u'wynn', u'xa', u'xac', u'xae', u'xaf', u'xb', u'xba', u'xbb', u'xbc', u'xbi', u'xbox', u'xc', u'xd', u'xe', u'xef', u'xi', u'xiaomi', u'xle', u'xlf', u'xom', u'yahoo', u'year', u'years', u'yellen', u'yellow', u'yelp', u'yen', u'yes', u'yesterday', u'yet', u'yhoo', u'yield', u'yields', u'york', u'yosemite', u'you', u'young', u'younger', u'your', u'yourself', u'youtube', u'yuan', u'yum', u'zero', u'ziop', u'zip', u'zone', u'zoom', u'zuckerberg']\n"
     ]
    }
   ],
   "source": [
    "###count feature names\n",
    "vocab = vectorizer.get_feature_names()\n",
    "print vocab"
   ]
  },
  {
   "cell_type": "code",
   "execution_count": 12,
   "metadata": {
    "collapsed": false,
    "scrolled": true
   },
   "outputs": [
    {
     "name": "stdout",
     "output_type": "stream",
     "text": [
      "Vectorizing...\n"
     ]
    }
   ],
   "source": [
    "print \"Vectorizing...\"\n",
    "\n",
    "vectorizer = TfidfVectorizer( min_df=2, max_df=0.95, max_features = 200000, ngram_range = ( 1, 3 ),\n",
    "                              sublinear_tf = True )\n",
    "\n",
    "vectorizer = vectorizer.fit(opinions)\n",
    "features = vectorizer.transform( opinions )\n",
    "features_test = vectorizer.transform( opinions_test )"
   ]
  },
  {
   "cell_type": "code",
   "execution_count": 13,
   "metadata": {
    "collapsed": false
   },
   "outputs": [
    {
     "name": "stdout",
     "output_type": "stream",
     "text": [
      "Reducing dimension...\n"
     ]
    }
   ],
   "source": [
    "print \"Reducing dimension...\"\n",
    "\n",
    "from sklearn.feature_selection.univariate_selection import SelectKBest, chi2, f_classif\n",
    "fselect = SelectKBest(chi2, k=10000)\n"
   ]
  },
  {
   "cell_type": "code",
   "execution_count": 14,
   "metadata": {
    "collapsed": false
   },
   "outputs": [],
   "source": [
    "train_data_features = fselect.fit_transform(features, article[\"trend\"])\n",
    "test_data_features = fselect.transform(features_test)\n"
   ]
  },
  {
   "cell_type": "markdown",
   "metadata": {},
   "source": [
    "# Train the model"
   ]
  },
  {
   "cell_type": "code",
   "execution_count": 128,
   "metadata": {
    "collapsed": false
   },
   "outputs": [
    {
     "name": "stdout",
     "output_type": "stream",
     "text": [
      "Training...\n"
     ]
    },
    {
     "data": {
      "text/plain": [
       "SGDClassifier(alpha=0.0001, average=False, class_weight=None, epsilon=0.1,\n",
       "       eta0=0.0, fit_intercept=True, l1_ratio=0.15,\n",
       "       learning_rate='optimal', loss='modified_huber', n_iter=5, n_jobs=1,\n",
       "       penalty='l2', power_t=0.5, random_state=0, shuffle=True, verbose=0,\n",
       "       warm_start=False)"
      ]
     },
     "execution_count": 128,
     "metadata": {},
     "output_type": "execute_result"
    }
   ],
   "source": [
    "print \"Training...\"\n",
    "\n",
    "model1 = MultinomialNB(alpha=0.0005)\n",
    "model1.fit( train_data_features, article[\"trend\"] )\n",
    "\n",
    "model2 = SGDClassifier(loss='modified_huber', n_iter=5, random_state=0, shuffle=True)\n",
    "model2.fit( train_data_features, article[\"trend\"] )\n"
   ]
  },
  {
   "cell_type": "code",
   "execution_count": 129,
   "metadata": {
    "collapsed": true
   },
   "outputs": [],
   "source": [
    "p1 = model1.predict_proba( test_data_features )\n",
    "output1 = pd.DataFrame(p1)\n",
    "p1_1 = model1.predict(test_data_features)\n",
    "output1 ['class'] = pd.Series(p1_1 , index=output1.index)\n",
    "\n",
    "\n",
    "p2 = model2.predict_proba( test_data_features )\n",
    "output2 = pd.DataFrame(p2)\n",
    "p2_1 = model2.predict(test_data_features)\n",
    "output2 ['class'] = pd.Series(p2_1 , index=output2.index)"
   ]
  },
  {
   "cell_type": "code",
   "execution_count": 130,
   "metadata": {
    "collapsed": false,
    "scrolled": true
   },
   "outputs": [
    {
     "name": "stdout",
     "output_type": "stream",
     "text": [
      "Writing results...\n"
     ]
    }
   ],
   "source": [
    "print \"Writing results...\"\n",
    "\n",
    "output1.to_csv( \"TF-IDF_NB.csv\",index = False, quoting = 3 )\n",
    "output2.to_csv( \"TF-IDF_SGD.csv\",index = False, quoting = 3 )"
   ]
  },
  {
   "cell_type": "code",
   "execution_count": 131,
   "metadata": {
    "collapsed": true
   },
   "outputs": [],
   "source": [
    "p3 = model1.predict_proba( train_data_features )\n",
    "output3 = pd.DataFrame(p3)\n",
    "p3_1 = model1.predict(train_data_features)\n",
    "output3 ['class'] = pd.Series(p3_1 , index=output3.index)\n",
    "\n",
    "p4 = model2.predict_proba( train_data_features )\n",
    "output4 = pd.DataFrame(p4)\n",
    "p4_1 = model2.predict(train_data_features)\n",
    "output4 ['class'] = pd.Series(p4_1 , index=output4.index)"
   ]
  },
  {
   "cell_type": "code",
   "execution_count": 132,
   "metadata": {
    "collapsed": false
   },
   "outputs": [
    {
     "name": "stdout",
     "output_type": "stream",
     "text": [
      "Writing results...\n"
     ]
    }
   ],
   "source": [
    "print \"Writing results...\"\n",
    "\n",
    "output3.to_csv( \"TF-IDF_NB_train.csv\",index = False, quoting = 3 )\n",
    "output4.to_csv( \"TF-IDF_SGD_train.csv\",index = False, quoting = 3 )"
   ]
  },
  {
   "cell_type": "code",
   "execution_count": 23,
   "metadata": {
    "collapsed": false
   },
   "outputs": [
    {
     "name": "stdout",
     "output_type": "stream",
     "text": [
      "Fitting a random forest to labeled training data...\n"
     ]
    }
   ],
   "source": [
    "# Fit a random forest to the training data, using 100 trees\n",
    "from sklearn.ensemble import RandomForestClassifier\n",
    "forest = RandomForestClassifier( n_estimators = 100 )\n",
    "\n",
    "print \"Fitting a random forest to labeled training data...\"\n",
    "forest = forest.fit( train_data_features, article[\"trend\"] )\n",
    "\n",
    "# Test & extract results \n",
    "result_testing = forest.predict( test_data_features )\n",
    "result_training = forest.predict( train_data_features )"
   ]
  },
  {
   "cell_type": "code",
   "execution_count": 16,
   "metadata": {
    "collapsed": true
   },
   "outputs": [],
   "source": [
    "testing_y = pd.read_csv(\"y_trend_1.csv\")\n",
    "training_y = pd.read_csv(\"train_trend_1.csv\")"
   ]
  },
  {
   "cell_type": "code",
   "execution_count": 19,
   "metadata": {
    "collapsed": false
   },
   "outputs": [
    {
     "name": "stdout",
     "output_type": "stream",
     "text": [
      "[[1004  753]\n",
      " [ 781  929]]\n",
      "0.557542543986\n"
     ]
    }
   ],
   "source": [
    "cm_testing = confusion_matrix(testing_y,result_testing)\n",
    "print(cm_testing)\n",
    "accuracy_testing = (cm_testing[0,0]+cm_testing[1,1])/float(sum(sum(cm_testing)))\n",
    "print accuracy_testing "
   ]
  },
  {
   "cell_type": "code",
   "execution_count": 25,
   "metadata": {
    "collapsed": false
   },
   "outputs": [
    {
     "name": "stdout",
     "output_type": "stream",
     "text": [
      "[[4066    7]\n",
      " [   3 4014]]\n",
      "0.998763906057\n"
     ]
    }
   ],
   "source": [
    "cm_training = confusion_matrix(training_y['trend'], result_training)\n",
    "print(cm_training)\n",
    "accuracy_training = (cm_training[0,0]+cm_training[1,1])/float(sum(sum(cm_training)))\n",
    "print accuracy_training"
   ]
  },
  {
   "cell_type": "code",
   "execution_count": null,
   "metadata": {
    "collapsed": true
   },
   "outputs": [],
   "source": []
  }
 ],
 "metadata": {
  "kernelspec": {
   "display_name": "Python 2",
   "language": "python",
   "name": "python2"
  },
  "language_info": {
   "codemirror_mode": {
    "name": "ipython",
    "version": 2
   },
   "file_extension": ".py",
   "mimetype": "text/x-python",
   "name": "python",
   "nbconvert_exporter": "python",
   "pygments_lexer": "ipython2",
   "version": "2.7.10"
  }
 },
 "nbformat": 4,
 "nbformat_minor": 0
}
